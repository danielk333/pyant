{
  "cells": [
    {
      "cell_type": "code",
      "execution_count": null,
      "metadata": {
        "collapsed": false
      },
      "outputs": [],
      "source": [
        "%matplotlib inline"
      ]
    },
    {
      "cell_type": "markdown",
      "metadata": {},
      "source": [
        "\nVectorized plotting\n========================\n"
      ]
    },
    {
      "cell_type": "code",
      "execution_count": null,
      "metadata": {
        "collapsed": false
      },
      "outputs": [],
      "source": [
        "import time\nimport pyant\n\nant = pyant.Airy(\n    azimuth=45,\n    elevation=75.0, \n    frequency=930e6,\n    I0=10**4.81,\n    radius=23.0,\n)\n\n\nstart_time = time.time()\npyant.plotting.gain_heatmap(ant, resolution=300, min_elevation=80.0, vectorized=False)\nprint(f'\"gain_heatmap\" ({300**2}) loop       performance: {time.time() - start_time:.1e} seconds')\n\nstart_time = time.time()\npyant.plotting.gain_heatmap(ant, resolution=300, min_elevation=80.0, vectorized=True)\nprint(f'\"gain_heatmap\" ({300**2}) vectorized performance: {time.time() - start_time:.1e} seconds')\n\n\npyant.plotting.show()"
      ]
    }
  ],
  "metadata": {
    "kernelspec": {
      "display_name": "Python 3",
      "language": "python",
      "name": "python3"
    },
    "language_info": {
      "codemirror_mode": {
        "name": "ipython",
        "version": 3
      },
      "file_extension": ".py",
      "mimetype": "text/x-python",
      "name": "python",
      "nbconvert_exporter": "python",
      "pygments_lexer": "ipython3",
      "version": "3.7.0"
    }
  },
  "nbformat": 4,
  "nbformat_minor": 0
}