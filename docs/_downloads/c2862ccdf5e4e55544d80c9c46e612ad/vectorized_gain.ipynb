{
  "cells": [
    {
      "cell_type": "code",
      "execution_count": null,
      "metadata": {
        "collapsed": false
      },
      "outputs": [],
      "source": [
        "%matplotlib inline"
      ]
    },
    {
      "cell_type": "markdown",
      "metadata": {},
      "source": [
        "\nVectorized gain functions\n================================\n"
      ]
    },
    {
      "cell_type": "code",
      "execution_count": null,
      "metadata": {
        "collapsed": false
      },
      "outputs": [],
      "source": [
        "import time\n\nimport numpy as np\nimport pyant\n\n\nnumber = 1000\nkn = 3\n\nant = pyant.Airy(\n    azimuth=45.0,\n    elevation=75.0, \n    frequency=930e6,\n    I0=10**4.81,\n    radius=23.0,\n)\n\nkx = np.linspace(-1, 1, num=kn)\nky = np.linspace(-1, 1, num=kn)\n\nsize = len(kx)*len(ky)\n\n#loop version\nstart_time = time.time()\n\nG = np.zeros((len(kx),len(ky)))\nfor i,x in enumerate(kx):\n    for j,y in enumerate(ky):\n        k=np.array([x, y, np.sqrt(1.0 - x**2 + y**2)])\n        G[i,j] = ant.gain(k)\n\nloop_time = time.time() - start_time\n\nprint(G)\n\n#vectorized version\nstart_time = time.time()\n\nxv, yv = np.meshgrid(kx, ky, sparse=False, indexing='ij')\nk = np.empty((3,size), dtype=np.float64)\nk[0,:] = xv.reshape(1,size)\nk[1,:] = yv.reshape(1,size)\nk[2,:] = np.sqrt(1.0 - k[0,:]**2 + k[1,:]**2)\n\n#We want to use reshape as a inverse function so we make sure its the exact same dimensionality\nG = np.zeros((1,size))\nG[0,:] = ant.gain(k)\nG = G.reshape(len(kx),len(ky))\n\nvector_time = time.time() - start_time\n\nprint(G)\n\nprint(f'\"Airy.gain\" ({size}) loop       performance: {loop_time:.1e} seconds')\nprint(f'\"Airy.gain\" ({size}) vectorized performance: {vector_time:.1e} seconds')"
      ]
    }
  ],
  "metadata": {
    "kernelspec": {
      "display_name": "Python 3",
      "language": "python",
      "name": "python3"
    },
    "language_info": {
      "codemirror_mode": {
        "name": "ipython",
        "version": 3
      },
      "file_extension": ".py",
      "mimetype": "text/x-python",
      "name": "python",
      "nbconvert_exporter": "python",
      "pygments_lexer": "ipython3",
      "version": "3.7.0"
    }
  },
  "nbformat": 4,
  "nbformat_minor": 0
}