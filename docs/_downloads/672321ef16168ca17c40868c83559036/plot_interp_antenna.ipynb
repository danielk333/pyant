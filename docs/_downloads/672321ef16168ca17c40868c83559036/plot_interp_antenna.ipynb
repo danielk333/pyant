{
  "cells": [
    {
      "cell_type": "code",
      "execution_count": null,
      "metadata": {
        "collapsed": false
      },
      "outputs": [],
      "source": [
        "%matplotlib inline"
      ]
    },
    {
      "cell_type": "markdown",
      "metadata": {},
      "source": [
        "\nInterpolated Antenna array gain\n================================\n"
      ]
    },
    {
      "cell_type": "code",
      "execution_count": null,
      "metadata": {
        "collapsed": false
      },
      "outputs": [],
      "source": [
        "import time\n\nimport numpy as np\n\nimport pyant\n\nxv, yv = np.meshgrid(np.linspace(-50,50, num=22), np.linspace(-50,50, num=22))\nantennas = np.zeros((22**2, 3))\nantennas[:,0] = xv.flatten()\nantennas[:,1] = yv.flatten()\n\nant = pyant.Array(\n    azimuth=0,\n    elevation=90.0, \n    frequency=46.5e6,\n    antennas=antennas,\n)\n\ninterp_ant = pyant.PlaneArrayInterp(\n    azimuth=0,\n    elevation=90.0, \n    frequency=46.5e6,\n)\n\ninterp_ant.generate_interpolation(ant, resolution=150)\n\nstart_time = time.time()\npyant.plotting.gain_heatmap(ant, resolution=100, min_elevation=80.0)\narray_time = time.time() - start_time\n\nstart_time = time.time()\npyant.plotting.gain_heatmap(interp_ant, resolution=100, min_elevation=80.0)\ninterp_time = time.time() - start_time\n\n#pointing causes no slow-down\ninterp_ant.sph_point(elevation=30.0, azimuth=45.0)\n\nstart_time = time.time()\npyant.plotting.gain_heatmap(interp_ant, resolution=100, min_elevation=80.0)\nprint(f'Heatmap plot pointing interp: {time.time() - start_time:.1f} seconds')\n\nprint(f'Heatmap plot antenna array: {array_time:.1f} seconds')\nprint(f'Heatmap plot interpolated array: {interp_time:.1f} seconds')\nprint(f'Speedup = factor of {array_time/interp_time:.2f}')\n\npyant.plotting.show()"
      ]
    }
  ],
  "metadata": {
    "kernelspec": {
      "display_name": "Python 3",
      "language": "python",
      "name": "python3"
    },
    "language_info": {
      "codemirror_mode": {
        "name": "ipython",
        "version": 3
      },
      "file_extension": ".py",
      "mimetype": "text/x-python",
      "name": "python",
      "nbconvert_exporter": "python",
      "pygments_lexer": "ipython3",
      "version": "3.7.0"
    }
  },
  "nbformat": 4,
  "nbformat_minor": 0
}