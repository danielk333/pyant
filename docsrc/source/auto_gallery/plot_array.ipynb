{
  "cells": [
    {
      "cell_type": "code",
      "execution_count": null,
      "metadata": {
        "collapsed": false
      },
      "outputs": [],
      "source": [
        "%matplotlib inline"
      ]
    },
    {
      "cell_type": "markdown",
      "metadata": {},
      "source": [
        "\nAntenna array gain\n===========================\n"
      ]
    },
    {
      "cell_type": "code",
      "execution_count": null,
      "metadata": {
        "collapsed": false
      },
      "outputs": [],
      "source": [
        "import time\nimport numpy as np\n\nimport pyant\n\nxv, yv = np.meshgrid(np.linspace(-50,50, num=22), np.linspace(-50,50, num=22))\nantennas = np.zeros((22**2, 3))\nantennas[:,0] = xv.flatten()\nantennas[:,1] = yv.flatten()\n\nant = pyant.Array(\n    azimuth=0,\n    elevation=90.0, \n    frequency=46.5e6,\n    antennas=antennas,\n)\n\n## Uncomment these to try the speed up for more complex gain calculations\n\n# start_time = time.time()\n# pyant.plotting.gain_heatmap(ant, resolution=100, min_elevation=80.0, vectorized=False)\n# print(f'\"gain_heatmap\" ({100**2}) loop       performance: {time.time() - start_time:.1e} seconds')\n\n# start_time = time.time()\n# pyant.plotting.gain_heatmap(ant, resolution=100, min_elevation=80.0, vectorized=True)\n# print(f'\"gain_heatmap\" ({100**2}) vectorized performance: {time.time() - start_time:.1e} seconds')\n\n\npyant.plotting.gain_heatmap(ant, resolution=100, min_elevation=80.0)\npyant.plotting.show()"
      ]
    }
  ],
  "metadata": {
    "kernelspec": {
      "display_name": "Python 3",
      "language": "python",
      "name": "python3"
    },
    "language_info": {
      "codemirror_mode": {
        "name": "ipython",
        "version": 3
      },
      "file_extension": ".py",
      "mimetype": "text/x-python",
      "name": "python",
      "nbconvert_exporter": "python",
      "pygments_lexer": "ipython3",
      "version": "3.7.0"
    }
  },
  "nbformat": 4,
  "nbformat_minor": 0
}