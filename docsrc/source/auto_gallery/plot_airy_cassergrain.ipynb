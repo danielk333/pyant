{
  "cells": [
    {
      "cell_type": "code",
      "execution_count": null,
      "metadata": {
        "collapsed": false
      },
      "outputs": [],
      "source": [
        "%matplotlib inline"
      ]
    },
    {
      "cell_type": "markdown",
      "metadata": {},
      "source": [
        "\nAiry disk antenna gain\n========================\n"
      ]
    },
    {
      "cell_type": "code",
      "execution_count": null,
      "metadata": {
        "collapsed": false
      },
      "outputs": [],
      "source": [
        "import pyant\n\nant = pyant.Airy(\n    azimuth=0,\n    elevation=90.0, \n    frequency=930e6,\n    I0=10**4.81,\n    radius=23.0,\n)\n\nant_c = pyant.Cassegrain(\n    azimuth=0,\n    elevation=90.0, \n    frequency=930e6,\n    I0=10**4.81,\n    a0=23.0,\n    a1=40.0,\n)\n\npyant.plotting.gain_heatmap(ant, resolution=301, min_elevation=80.0)\npyant.plotting.gain_heatmap(ant_c, resolution=301, min_elevation=80.0)\npyant.plotting.show()"
      ]
    }
  ],
  "metadata": {
    "kernelspec": {
      "display_name": "Python 3",
      "language": "python",
      "name": "python3"
    },
    "language_info": {
      "codemirror_mode": {
        "name": "ipython",
        "version": 3
      },
      "file_extension": ".py",
      "mimetype": "text/x-python",
      "name": "python",
      "nbconvert_exporter": "python",
      "pygments_lexer": "ipython3",
      "version": "3.7.0"
    }
  },
  "nbformat": 4,
  "nbformat_minor": 0
}