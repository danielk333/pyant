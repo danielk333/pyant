{
  "cells": [
    {
      "cell_type": "code",
      "execution_count": null,
      "metadata": {
        "collapsed": false
      },
      "outputs": [],
      "source": [
        "%matplotlib inline"
      ]
    },
    {
      "cell_type": "markdown",
      "metadata": {},
      "source": [
        "\nPredefined instances\n======================\n"
      ]
    },
    {
      "cell_type": "code",
      "execution_count": null,
      "metadata": {
        "collapsed": false
      },
      "outputs": [],
      "source": [
        "import numpy as np\n\nimport pyant\nimport pyant.instances as lib\n\nprint(lib.__all__)\n\ne3d_m = lib.e3d_array_module\ne3d_m_I0 = e3d_m.sph_gain(\n    azimuth=e3d_m.azimuth, \n    elevation=e3d_m.elevation,\n)\nprint(f'EISCAT 3D Module peak gain: {10*np.log10(e3d_m_I0)}')\n\ne3d = lib.e3d_array_stage1\n\ne3d_I0 = e3d.sph_gain(\n    azimuth=e3d.azimuth, \n    elevation=e3d.elevation,\n)\nprint(f'EISCAT 3D Stage 1 peak gain: {10*np.log10(e3d_I0)}')\n\ne3d_s2 = lib.e3d_array_stage2\n\ne3d_s2_I0 = e3d_s2.sph_gain(\n    azimuth = e3d_s2.azimuth, \n    elevation = e3d_s2.elevation,\n)\nprint(f'EISCAT 3D Stage 2 peak gain: {10*np.log10(e3d_s2_I0)}')\n\n\npyant.plotting.antenna_configuration(e3d.antennas)\npyant.plotting.antenna_configuration(lib.e3d_array_module.antennas)\n\npyant.plotting.gain_heatmap(e3d, resolution=100, min_elevation=80.0)\npyant.plotting.show()"
      ]
    }
  ],
  "metadata": {
    "kernelspec": {
      "display_name": "Python 3",
      "language": "python",
      "name": "python3"
    },
    "language_info": {
      "codemirror_mode": {
        "name": "ipython",
        "version": 3
      },
      "file_extension": ".py",
      "mimetype": "text/x-python",
      "name": "python",
      "nbconvert_exporter": "python",
      "pygments_lexer": "ipython3",
      "version": "3.7.0"
    }
  },
  "nbformat": 4,
  "nbformat_minor": 0
}