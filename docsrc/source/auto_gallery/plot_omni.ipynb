{
  "cells": [
    {
      "cell_type": "code",
      "execution_count": null,
      "metadata": {
        "collapsed": false
      },
      "outputs": [],
      "source": [
        "%matplotlib inline"
      ]
    },
    {
      "cell_type": "markdown",
      "metadata": {},
      "source": [
        "\nOmni-directional antenna\n========================\n"
      ]
    },
    {
      "cell_type": "code",
      "execution_count": null,
      "metadata": {
        "collapsed": false
      },
      "outputs": [],
      "source": [
        "import pyant\nimport numpy as np\n\nclass Omni(pyant.Beam):\n    def gain(self,k):\n        if len(k.shape) == 1:\n            return 1.0\n        else:\n            return np.ones((k.shape[1],), dtype=k.dtype)\n\nant = Omni(\n    azimuth=0.0, \n    elevation=90.0, \n    frequency=47e6,\n)\n\nprint(ant.gain(np.array([0,0,1])))\n\npyant.plotting.gain_heatmap(ant)\npyant.plotting.show()"
      ]
    }
  ],
  "metadata": {
    "kernelspec": {
      "display_name": "Python 3",
      "language": "python",
      "name": "python3"
    },
    "language_info": {
      "codemirror_mode": {
        "name": "ipython",
        "version": 3
      },
      "file_extension": ".py",
      "mimetype": "text/x-python",
      "name": "python",
      "nbconvert_exporter": "python",
      "pygments_lexer": "ipython3",
      "version": "3.7.0"
    }
  },
  "nbformat": 4,
  "nbformat_minor": 0
}