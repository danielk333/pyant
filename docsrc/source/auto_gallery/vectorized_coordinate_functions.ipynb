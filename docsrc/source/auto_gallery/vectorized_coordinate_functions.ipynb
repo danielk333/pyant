{
  "cells": [
    {
      "cell_type": "code",
      "execution_count": null,
      "metadata": {
        "collapsed": false
      },
      "outputs": [],
      "source": [
        "%matplotlib inline"
      ]
    },
    {
      "cell_type": "markdown",
      "metadata": {},
      "source": [
        "\nVectorized coordinate functions\n================================\n"
      ]
    },
    {
      "cell_type": "code",
      "execution_count": null,
      "metadata": {
        "collapsed": false
      },
      "outputs": [],
      "source": [
        "import numpy as np\nimport pyant\n\nimport timeit\n\nnumber = 1000\nsize = 100\n\ndef coordinates_vector_angle():\n    a = np.array([1,0,0])\n    b = np.array([0,1,0])\n    c = np.array([1,1,0])\n    bc = np.append(b.reshape(3,1),c.reshape(3,1),axis=1)\n    print(bc)\n\n    th_ab = pyant.coordinates.vector_angle(a,b)\n    print(th_ab)\n\n    th_ac = pyant.coordinates.vector_angle(a,c)\n    print(th_ac)\n\n    th_abc = pyant.coordinates.vector_angle(a,bc)\n    print(th_abc)\n\n    x = np.random.randn(3,100)\n\n    th_ax = pyant.coordinates.vector_angle(a,x)\n    print(th_ax)\n    # As opposed to\n    #\n    # for y in x.T:\n    #     print(pyant.coordinates.vector_angle(a,y))\n\n    dt_l = timeit.timeit(\n        '''\nfor y in x.T:\n    pyant.coordinates.vector_angle(a,y)\n''', \n        setup=\n        f'''\nimport pyant\nimport numpy as np\na = np.array([1,0,0])\nx = np.random.randn(3,{size})\n    ''', \n        number = number,\n    )\n\n    dt_v = timeit.timeit(\n        'pyant.coordinates.vector_angle(a,x)', \n        setup=\n    f'''\nimport pyant\nimport numpy as np\na = np.array([1,0,0])\nx = np.random.randn(3,{size})\n    ''', \n        number = number,\n    )\n    print(f'\"vector_angle\" ({size}) loop       performance: {dt_l:.1e} seconds')\n    print(f'\"vector_angle\" ({size}) vectorized performance: {dt_v:.1e} seconds')\n\n\n\ndef coordinates_sph_to_cart():\n    a = np.array([0,45,1], dtype=np.float64)\n    b = np.array([120,85,1], dtype=np.float64)\n    ab = np.append(a.reshape(3,1),b.reshape(3,1),axis=1)\n    print(ab)\n\n    sph_a = pyant.coordinates.sph_to_cart(a)\n    print(sph_a)\n\n    sph_b = pyant.coordinates.sph_to_cart(b)\n    print(sph_b)\n\n    sph_ab = pyant.coordinates.sph_to_cart(ab)\n    print(sph_ab)\n\n    x = np.random.randn(3,10)\n    x[2,:] = 1.0\n\n    sph_x = pyant.coordinates.sph_to_cart(x)\n    print(sph_x)\n    # As opposed to\n    #\n    # for y in x.T:\n    #     print(pyant.coordinates.sph_to_cart(y))\n\n    setup = f'''\nimport pyant\nimport numpy as np\nx = np.random.randn(3,{size})\nx[2,:] = 1.0\n'''\n\n    dt_l = timeit.timeit(\n    '''\nfor y in x.T:\n    pyant.coordinates.sph_to_cart(y)\n    ''', \n        setup = setup, \n        number = number,\n    )\n\n    dt_v = timeit.timeit(\n        'pyant.coordinates.sph_to_cart(x)', \n        setup = setup, \n        number = number,\n    )\n    print(f'\"sph_to_cart\" ({size}) loop       performance: {dt_l:.1e} seconds')\n    print(f'\"sph_to_cart\" ({size}) vectorized performance: {dt_v:.1e} seconds')\n\n\n\ndef coordinates_cart_to_sph():\n    a = np.array([1,1,1], dtype=np.float64)\n    b = np.array([0,0,1], dtype=np.float64)\n    ab = np.append(a.reshape(3,1),b.reshape(3,1),axis=1)\n    print(ab)\n\n    sph_a = pyant.coordinates.cart_to_sph(a)\n    print(sph_a)\n\n    sph_b = pyant.coordinates.cart_to_sph(b)\n    print(sph_b)\n\n    sph_ab = pyant.coordinates.cart_to_sph(ab)\n    print(sph_ab)\n\n    x = np.random.randn(3,10)\n\n    sph_x = pyant.coordinates.cart_to_sph(x)\n    print(sph_x)\n    # As opposed to\n    #\n    # for y in x.T:\n    #     print(pyant.coordinates.cart_to_sph(y))\n\n    setup = f'''\nimport pyant\nimport numpy as np\nx = np.random.randn(3,{size})\n'''\n\n    dt_l = timeit.timeit(\n    '''\nfor y in x.T:\n    pyant.coordinates.cart_to_sph(y)\n    ''', \n        setup = setup, \n        number = number,\n    )\n\n    dt_v = timeit.timeit(\n        'pyant.coordinates.cart_to_sph(x)', \n        setup = setup, \n        number = number,\n    )\n    print(f'\"cart_to_sph\" ({size}) loop       performance: {dt_l:.1e} seconds')\n    print(f'\"cart_to_sph\" ({size}) vectorized performance: {dt_v:.1e} seconds')\n\n\n\ncoordinates_vector_angle()\ncoordinates_sph_to_cart()\ncoordinates_cart_to_sph()"
      ]
    }
  ],
  "metadata": {
    "kernelspec": {
      "display_name": "Python 3",
      "language": "python",
      "name": "python3"
    },
    "language_info": {
      "codemirror_mode": {
        "name": "ipython",
        "version": 3
      },
      "file_extension": ".py",
      "mimetype": "text/x-python",
      "name": "python",
      "nbconvert_exporter": "python",
      "pygments_lexer": "ipython3",
      "version": "3.7.0"
    }
  },
  "nbformat": 4,
  "nbformat_minor": 0
}